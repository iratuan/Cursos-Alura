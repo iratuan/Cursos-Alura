{
  "nbformat": 4,
  "nbformat_minor": 0,
  "metadata": {
    "colab": {
      "name": "Alura - DS01 - Aula 04.ipynb",
      "provenance": []
    },
    "kernelspec": {
      "name": "python3",
      "display_name": "Python 3"
    }
  },
  "cells": [
    {
      "cell_type": "code",
      "metadata": {
        "id": "4qV78ZFu14eN"
      },
      "source": [
        "import pandas as pd\n",
        "from datetime import datetime\n",
        "import numpy as np\n",
        "from sklearn.model_selection import train_test_split\n",
        "\n",
        "\n",
        "uri = 'https://gist.githubusercontent.com/guilhermesilveira/4d1d4a16ccbf6ea4e0a64a38a24ec884/raw/afd05cb0c796d18f3f5a6537053ded308ba94bf7/car-prices.csv'\n",
        "dados = pd.read_csv(uri)\n",
        "\n",
        "labels = {\n",
        "    \"mileage_per_year\":\"milhas_por_ano\",\n",
        "    \"model_year\":\"ano_modelo\",\n",
        "    \"price\":\"preco\",\n",
        "    \"sold\":\"vendido\"\n",
        "}\n",
        "dados = dados.rename(columns=labels)\n",
        "dados[\"vendido\"] = dados[\"vendido\"].map({\"yes\":1,\"no\":0})\n",
        "ano_atual = datetime.today().year\n",
        "dados[\"idade_modelo\"] = ano_atual - dados.ano_modelo \n",
        "dados[\"km_ano\"] = dados.milhas_por_ano * 1.60934\n",
        "dados = dados.drop(columns = [\"Unnamed: 0\",\"milhas_por_ano\", \"ano_modelo\"], axis=1)\n"
      ],
      "execution_count": 23,
      "outputs": []
    },
    {
      "cell_type": "code",
      "metadata": {
        "colab": {
          "base_uri": "https://localhost:8080/",
          "height": 204
        },
        "id": "8m7dI6jd1_QC",
        "outputId": "d8b570d7-6bf0-4bea-d5ec-e9349405038f"
      },
      "source": [
        "dados.head()"
      ],
      "execution_count": 24,
      "outputs": [
        {
          "output_type": "execute_result",
          "data": {
            "text/html": [
              "<div>\n",
              "<style scoped>\n",
              "    .dataframe tbody tr th:only-of-type {\n",
              "        vertical-align: middle;\n",
              "    }\n",
              "\n",
              "    .dataframe tbody tr th {\n",
              "        vertical-align: top;\n",
              "    }\n",
              "\n",
              "    .dataframe thead th {\n",
              "        text-align: right;\n",
              "    }\n",
              "</style>\n",
              "<table border=\"1\" class=\"dataframe\">\n",
              "  <thead>\n",
              "    <tr style=\"text-align: right;\">\n",
              "      <th></th>\n",
              "      <th>preco</th>\n",
              "      <th>vendido</th>\n",
              "      <th>idade_modelo</th>\n",
              "      <th>km_ano</th>\n",
              "    </tr>\n",
              "  </thead>\n",
              "  <tbody>\n",
              "    <tr>\n",
              "      <th>0</th>\n",
              "      <td>30941.02</td>\n",
              "      <td>1</td>\n",
              "      <td>21</td>\n",
              "      <td>35085.22134</td>\n",
              "    </tr>\n",
              "    <tr>\n",
              "      <th>1</th>\n",
              "      <td>40557.96</td>\n",
              "      <td>1</td>\n",
              "      <td>23</td>\n",
              "      <td>12622.05362</td>\n",
              "    </tr>\n",
              "    <tr>\n",
              "      <th>2</th>\n",
              "      <td>89627.50</td>\n",
              "      <td>0</td>\n",
              "      <td>15</td>\n",
              "      <td>11440.79806</td>\n",
              "    </tr>\n",
              "    <tr>\n",
              "      <th>3</th>\n",
              "      <td>95276.14</td>\n",
              "      <td>0</td>\n",
              "      <td>6</td>\n",
              "      <td>43167.32682</td>\n",
              "    </tr>\n",
              "    <tr>\n",
              "      <th>4</th>\n",
              "      <td>117384.68</td>\n",
              "      <td>1</td>\n",
              "      <td>7</td>\n",
              "      <td>12770.11290</td>\n",
              "    </tr>\n",
              "  </tbody>\n",
              "</table>\n",
              "</div>"
            ],
            "text/plain": [
              "       preco  vendido  idade_modelo       km_ano\n",
              "0   30941.02        1            21  35085.22134\n",
              "1   40557.96        1            23  12622.05362\n",
              "2   89627.50        0            15  11440.79806\n",
              "3   95276.14        0             6  43167.32682\n",
              "4  117384.68        1             7  12770.11290"
            ]
          },
          "metadata": {
            "tags": []
          },
          "execution_count": 24
        }
      ]
    },
    {
      "cell_type": "code",
      "metadata": {
        "id": "8gWPKfL_2EzN"
      },
      "source": [
        "x = dados[[\"preco\",\"idade_modelo\",\"km_ano\"]]\n",
        "y = dados[\"vendido\"]"
      ],
      "execution_count": 25,
      "outputs": []
    },
    {
      "cell_type": "code",
      "metadata": {
        "id": "GCmy9WQnE1pY",
        "colab": {
          "base_uri": "https://localhost:8080/"
        },
        "outputId": "50f4c503-a232-485d-cfd8-d1e3d47f6a7d"
      },
      "source": [
        "# SEED controla a aleatoriedade da separação dos dados\n",
        "# stratify diz que o algoritmo deve estratificar a amostra com base na classificação (Y)\n",
        "SEED = 5\n",
        "np.random.seed(SEED)\n",
        "train_x, test_x, train_y, test_y = train_test_split(x,y, test_size = 0.25, stratify = y)\n",
        "# Treinando o modelo\n",
        "from sklearn.svm import LinearSVC\n",
        "from sklearn.metrics import accuracy_score\n",
        "model = LinearSVC()\n",
        "model.fit(train_x, train_y)\n",
        "\n",
        "previsoes = model.predict(test_x)\n",
        "accuracy_score(test_y, previsoes)"
      ],
      "execution_count": 26,
      "outputs": [
        {
          "output_type": "stream",
          "text": [
            "/usr/local/lib/python3.6/dist-packages/sklearn/svm/_base.py:947: ConvergenceWarning: Liblinear failed to converge, increase the number of iterations.\n",
            "  \"the number of iterations.\", ConvergenceWarning)\n"
          ],
          "name": "stderr"
        },
        {
          "output_type": "execute_result",
          "data": {
            "text/plain": [
              "0.628"
            ]
          },
          "metadata": {
            "tags": []
          },
          "execution_count": 26
        }
      ]
    },
    {
      "cell_type": "code",
      "metadata": {
        "colab": {
          "base_uri": "https://localhost:8080/"
        },
        "id": "pw56nr0e5HgT",
        "outputId": "df379456-cfeb-415a-bcc3-c3f1774a4cf6"
      },
      "source": [
        "from sklearn.dummy import DummyClassifier\n",
        "dummy_stratified = DummyClassifier()\n",
        "dummy_stratified.fit(train_x, train_y)\n",
        "dummy_stratified.score(test_x, test_y)"
      ],
      "execution_count": 27,
      "outputs": [
        {
          "output_type": "stream",
          "text": [
            "/usr/local/lib/python3.6/dist-packages/sklearn/dummy.py:132: FutureWarning: The default value of strategy will change from stratified to prior in 0.24.\n",
            "  \"stratified to prior in 0.24.\", FutureWarning)\n"
          ],
          "name": "stderr"
        },
        {
          "output_type": "execute_result",
          "data": {
            "text/plain": [
              "0.5244"
            ]
          },
          "metadata": {
            "tags": []
          },
          "execution_count": 27
        }
      ]
    },
    {
      "cell_type": "code",
      "metadata": {
        "colab": {
          "base_uri": "https://localhost:8080/"
        },
        "id": "I3kjDpsQ6UWZ",
        "outputId": "4dcfb20f-0f6c-4ca3-f343-d572354ad64a"
      },
      "source": [
        "dummy_most_frequent = DummyClassifier(strategy=\"most_frequent\")\n",
        "dummy_most_frequent.fit(train_x, train_y)\n",
        "dummy_stratified.score(test_x, test_y)"
      ],
      "execution_count": 28,
      "outputs": [
        {
          "output_type": "execute_result",
          "data": {
            "text/plain": [
              "0.5068"
            ]
          },
          "metadata": {
            "tags": []
          },
          "execution_count": 28
        }
      ]
    },
    {
      "cell_type": "code",
      "metadata": {
        "colab": {
          "base_uri": "https://localhost:8080/"
        },
        "id": "AcRqn8Wt7zu0",
        "outputId": "6dab1f9d-ca88-4bcc-ef7d-77dcfd374ec7"
      },
      "source": [
        "# SEED controla a aleatoriedade da separação dos dados\n",
        "# stratify diz que o algoritmo deve estratificar a amostra com base na classificação (Y)\n",
        "SEED = 5\n",
        "np.random.seed(SEED)\n",
        "raw_train_x, raw_test_x, train_y, test_y = train_test_split(x,y, test_size = 0.25, stratify = y)\n",
        "# Treinando o modelo\n",
        "from sklearn.svm import SVC\n",
        "from sklearn.preprocessing import StandardScaler\n",
        "\n",
        "scaler = StandardScaler()\n",
        "scaler.fit(raw_train_x) # treina\n",
        "train_x = scaler.transform(raw_train_x)\n",
        "test_x = scaler.transform(raw_test_x)\n",
        "\n",
        "model = SVC()\n",
        "model.fit(train_x, train_y)\n",
        "\n",
        "previsoes = model.predict(test_x)\n",
        "accuracy_score(test_y, previsoes)"
      ],
      "execution_count": 29,
      "outputs": [
        {
          "output_type": "execute_result",
          "data": {
            "text/plain": [
              "0.7748"
            ]
          },
          "metadata": {
            "tags": []
          },
          "execution_count": 29
        }
      ]
    },
    {
      "cell_type": "code",
      "metadata": {
        "colab": {
          "base_uri": "https://localhost:8080/"
        },
        "id": "xUTpNZhJ95eC",
        "outputId": "7f96150b-9baa-4a12-e03c-ab5ba37d9120"
      },
      "source": [
        "# SEED controla a aleatoriedade da separação dos dados\n",
        "# stratify diz que o algoritmo deve estratificar a amostra com base na classificação (Y)\n",
        "SEED = 5\n",
        "np.random.seed(SEED)\n",
        "raw_train_x, raw_test_x, train_y, test_y = train_test_split(x,y, test_size = 0.25, stratify = y)\n",
        "# Treinando o modelo\n",
        "from sklearn.tree import DecisionTreeClassifier\n",
        "from sklearn.preprocessing import StandardScaler\n",
        "\n",
        "scaler = StandardScaler()\n",
        "scaler.fit(raw_train_x) # treina\n",
        "train_x = scaler.transform(raw_train_x)\n",
        "test_x = scaler.transform(raw_test_x)\n",
        "\n",
        "model = DecisionTreeClassifier(max_depth=2)\n",
        "model.fit(train_x, train_y)\n",
        "\n",
        "previsoes = model.predict(test_x)\n",
        "accuracy_score(test_y, previsoes)"
      ],
      "execution_count": 36,
      "outputs": [
        {
          "output_type": "execute_result",
          "data": {
            "text/plain": [
              "0.7684"
            ]
          },
          "metadata": {
            "tags": []
          },
          "execution_count": 36
        }
      ]
    },
    {
      "cell_type": "code",
      "metadata": {
        "colab": {
          "base_uri": "https://localhost:8080/",
          "height": 457
        },
        "id": "BCBzvsQw-JVV",
        "outputId": "b7ec7a81-6551-48be-c1a0-412748bf3843"
      },
      "source": [
        "!pip install graphviz\n",
        "from sklearn.tree import export_graphviz\n",
        "import graphviz\n",
        "\n",
        "features = x.columns\n",
        "dot_data = export_graphviz(model, feature_names=features, class_names=[\"não\",\"sim\"])\n",
        "grafico  = graphviz.Source(dot_data)\n",
        "grafico"
      ],
      "execution_count": 39,
      "outputs": [
        {
          "output_type": "stream",
          "text": [
            "Requirement already satisfied: graphviz in /usr/local/lib/python3.6/dist-packages (0.10.1)\n"
          ],
          "name": "stdout"
        },
        {
          "output_type": "execute_result",
          "data": {
            "text/plain": [
              "<graphviz.files.Source at 0x7f8faae2f0f0>"
            ],
            "image/svg+xml": "<?xml version=\"1.0\" encoding=\"UTF-8\" standalone=\"no\"?>\n<!DOCTYPE svg PUBLIC \"-//W3C//DTD SVG 1.1//EN\"\n \"http://www.w3.org/Graphics/SVG/1.1/DTD/svg11.dtd\">\n<!-- Generated by graphviz version 2.40.1 (20161225.0304)\n -->\n<!-- Title: Tree Pages: 1 -->\n<svg width=\"584pt\" height=\"314pt\"\n viewBox=\"0.00 0.00 583.50 314.00\" xmlns=\"http://www.w3.org/2000/svg\" xmlns:xlink=\"http://www.w3.org/1999/xlink\">\n<g id=\"graph0\" class=\"graph\" transform=\"scale(1 1) rotate(0) translate(4 310)\">\n<title>Tree</title>\n<polygon fill=\"#ffffff\" stroke=\"transparent\" points=\"-4,4 -4,-310 579.5,-310 579.5,4 -4,4\"/>\n<!-- 0 -->\n<g id=\"node1\" class=\"node\">\n<title>0</title>\n<polygon fill=\"none\" stroke=\"#000000\" points=\"348.5,-306 208.5,-306 208.5,-223 348.5,-223 348.5,-306\"/>\n<text text-anchor=\"middle\" x=\"278.5\" y=\"-290.8\" font-family=\"Times,serif\" font-size=\"14.00\" fill=\"#000000\">preco &lt;= &#45;0.196</text>\n<text text-anchor=\"middle\" x=\"278.5\" y=\"-275.8\" font-family=\"Times,serif\" font-size=\"14.00\" fill=\"#000000\">gini = 0.487</text>\n<text text-anchor=\"middle\" x=\"278.5\" y=\"-260.8\" font-family=\"Times,serif\" font-size=\"14.00\" fill=\"#000000\">samples = 7500</text>\n<text text-anchor=\"middle\" x=\"278.5\" y=\"-245.8\" font-family=\"Times,serif\" font-size=\"14.00\" fill=\"#000000\">value = [3150, 4350]</text>\n<text text-anchor=\"middle\" x=\"278.5\" y=\"-230.8\" font-family=\"Times,serif\" font-size=\"14.00\" fill=\"#000000\">class = sim</text>\n</g>\n<!-- 1 -->\n<g id=\"node2\" class=\"node\">\n<title>1</title>\n<polygon fill=\"none\" stroke=\"#000000\" points=\"267.5,-187 135.5,-187 135.5,-104 267.5,-104 267.5,-187\"/>\n<text text-anchor=\"middle\" x=\"201.5\" y=\"-171.8\" font-family=\"Times,serif\" font-size=\"14.00\" fill=\"#000000\">preco &lt;= &#45;0.986</text>\n<text text-anchor=\"middle\" x=\"201.5\" y=\"-156.8\" font-family=\"Times,serif\" font-size=\"14.00\" fill=\"#000000\">gini = 0.202</text>\n<text text-anchor=\"middle\" x=\"201.5\" y=\"-141.8\" font-family=\"Times,serif\" font-size=\"14.00\" fill=\"#000000\">samples = 3248</text>\n<text text-anchor=\"middle\" x=\"201.5\" y=\"-126.8\" font-family=\"Times,serif\" font-size=\"14.00\" fill=\"#000000\">value = [370, 2878]</text>\n<text text-anchor=\"middle\" x=\"201.5\" y=\"-111.8\" font-family=\"Times,serif\" font-size=\"14.00\" fill=\"#000000\">class = sim</text>\n</g>\n<!-- 0&#45;&gt;1 -->\n<g id=\"edge1\" class=\"edge\">\n<title>0&#45;&gt;1</title>\n<path fill=\"none\" stroke=\"#000000\" d=\"M251.5691,-222.8796C245.9163,-214.1434 239.8967,-204.8404 234.0634,-195.8253\"/>\n<polygon fill=\"#000000\" stroke=\"#000000\" points=\"236.9169,-193.7924 228.5458,-187.2981 231.0399,-197.5952 236.9169,-193.7924\"/>\n<text text-anchor=\"middle\" x=\"223.3076\" y=\"-208.0431\" font-family=\"Times,serif\" font-size=\"14.00\" fill=\"#000000\">True</text>\n</g>\n<!-- 4 -->\n<g id=\"node5\" class=\"node\">\n<title>4</title>\n<polygon fill=\"none\" stroke=\"#000000\" points=\"425.5,-187 285.5,-187 285.5,-104 425.5,-104 425.5,-187\"/>\n<text text-anchor=\"middle\" x=\"355.5\" y=\"-171.8\" font-family=\"Times,serif\" font-size=\"14.00\" fill=\"#000000\">km_ano &lt;= 0.156</text>\n<text text-anchor=\"middle\" x=\"355.5\" y=\"-156.8\" font-family=\"Times,serif\" font-size=\"14.00\" fill=\"#000000\">gini = 0.453</text>\n<text text-anchor=\"middle\" x=\"355.5\" y=\"-141.8\" font-family=\"Times,serif\" font-size=\"14.00\" fill=\"#000000\">samples = 4252</text>\n<text text-anchor=\"middle\" x=\"355.5\" y=\"-126.8\" font-family=\"Times,serif\" font-size=\"14.00\" fill=\"#000000\">value = [2780, 1472]</text>\n<text text-anchor=\"middle\" x=\"355.5\" y=\"-111.8\" font-family=\"Times,serif\" font-size=\"14.00\" fill=\"#000000\">class = não</text>\n</g>\n<!-- 0&#45;&gt;4 -->\n<g id=\"edge4\" class=\"edge\">\n<title>0&#45;&gt;4</title>\n<path fill=\"none\" stroke=\"#000000\" d=\"M305.4309,-222.8796C311.0837,-214.1434 317.1033,-204.8404 322.9366,-195.8253\"/>\n<polygon fill=\"#000000\" stroke=\"#000000\" points=\"325.9601,-197.5952 328.4542,-187.2981 320.0831,-193.7924 325.9601,-197.5952\"/>\n<text text-anchor=\"middle\" x=\"333.6924\" y=\"-208.0431\" font-family=\"Times,serif\" font-size=\"14.00\" fill=\"#000000\">False</text>\n</g>\n<!-- 2 -->\n<g id=\"node3\" class=\"node\">\n<title>2</title>\n<polygon fill=\"none\" stroke=\"#000000\" points=\"117,-68 0,-68 0,0 117,0 117,-68\"/>\n<text text-anchor=\"middle\" x=\"58.5\" y=\"-52.8\" font-family=\"Times,serif\" font-size=\"14.00\" fill=\"#000000\">gini = 0.0</text>\n<text text-anchor=\"middle\" x=\"58.5\" y=\"-37.8\" font-family=\"Times,serif\" font-size=\"14.00\" fill=\"#000000\">samples = 1441</text>\n<text text-anchor=\"middle\" x=\"58.5\" y=\"-22.8\" font-family=\"Times,serif\" font-size=\"14.00\" fill=\"#000000\">value = [0, 1441]</text>\n<text text-anchor=\"middle\" x=\"58.5\" y=\"-7.8\" font-family=\"Times,serif\" font-size=\"14.00\" fill=\"#000000\">class = sim</text>\n</g>\n<!-- 1&#45;&gt;2 -->\n<g id=\"edge2\" class=\"edge\">\n<title>1&#45;&gt;2</title>\n<path fill=\"none\" stroke=\"#000000\" d=\"M148.2521,-103.9815C135.8756,-94.3313 122.7172,-84.0714 110.3997,-74.4673\"/>\n<polygon fill=\"#000000\" stroke=\"#000000\" points=\"112.4818,-71.6525 102.4435,-68.2637 108.1775,-77.1728 112.4818,-71.6525\"/>\n</g>\n<!-- 3 -->\n<g id=\"node4\" class=\"node\">\n<title>3</title>\n<polygon fill=\"none\" stroke=\"#000000\" points=\"267.5,-68 135.5,-68 135.5,0 267.5,0 267.5,-68\"/>\n<text text-anchor=\"middle\" x=\"201.5\" y=\"-52.8\" font-family=\"Times,serif\" font-size=\"14.00\" fill=\"#000000\">gini = 0.326</text>\n<text text-anchor=\"middle\" x=\"201.5\" y=\"-37.8\" font-family=\"Times,serif\" font-size=\"14.00\" fill=\"#000000\">samples = 1807</text>\n<text text-anchor=\"middle\" x=\"201.5\" y=\"-22.8\" font-family=\"Times,serif\" font-size=\"14.00\" fill=\"#000000\">value = [370, 1437]</text>\n<text text-anchor=\"middle\" x=\"201.5\" y=\"-7.8\" font-family=\"Times,serif\" font-size=\"14.00\" fill=\"#000000\">class = sim</text>\n</g>\n<!-- 1&#45;&gt;3 -->\n<g id=\"edge3\" class=\"edge\">\n<title>1&#45;&gt;3</title>\n<path fill=\"none\" stroke=\"#000000\" d=\"M201.5,-103.9815C201.5,-95.618 201.5,-86.7965 201.5,-78.3409\"/>\n<polygon fill=\"#000000\" stroke=\"#000000\" points=\"205.0001,-78.2636 201.5,-68.2637 198.0001,-78.2637 205.0001,-78.2636\"/>\n</g>\n<!-- 5 -->\n<g id=\"node6\" class=\"node\">\n<title>5</title>\n<polygon fill=\"none\" stroke=\"#000000\" points=\"425.5,-68 285.5,-68 285.5,0 425.5,0 425.5,-68\"/>\n<text text-anchor=\"middle\" x=\"355.5\" y=\"-52.8\" font-family=\"Times,serif\" font-size=\"14.00\" fill=\"#000000\">gini = 0.498</text>\n<text text-anchor=\"middle\" x=\"355.5\" y=\"-37.8\" font-family=\"Times,serif\" font-size=\"14.00\" fill=\"#000000\">samples = 2649</text>\n<text text-anchor=\"middle\" x=\"355.5\" y=\"-22.8\" font-family=\"Times,serif\" font-size=\"14.00\" fill=\"#000000\">value = [1409, 1240]</text>\n<text text-anchor=\"middle\" x=\"355.5\" y=\"-7.8\" font-family=\"Times,serif\" font-size=\"14.00\" fill=\"#000000\">class = não</text>\n</g>\n<!-- 4&#45;&gt;5 -->\n<g id=\"edge5\" class=\"edge\">\n<title>4&#45;&gt;5</title>\n<path fill=\"none\" stroke=\"#000000\" d=\"M355.5,-103.9815C355.5,-95.618 355.5,-86.7965 355.5,-78.3409\"/>\n<polygon fill=\"#000000\" stroke=\"#000000\" points=\"359.0001,-78.2636 355.5,-68.2637 352.0001,-78.2637 359.0001,-78.2636\"/>\n</g>\n<!-- 6 -->\n<g id=\"node7\" class=\"node\">\n<title>6</title>\n<polygon fill=\"none\" stroke=\"#000000\" points=\"575.5,-68 443.5,-68 443.5,0 575.5,0 575.5,-68\"/>\n<text text-anchor=\"middle\" x=\"509.5\" y=\"-52.8\" font-family=\"Times,serif\" font-size=\"14.00\" fill=\"#000000\">gini = 0.248</text>\n<text text-anchor=\"middle\" x=\"509.5\" y=\"-37.8\" font-family=\"Times,serif\" font-size=\"14.00\" fill=\"#000000\">samples = 1603</text>\n<text text-anchor=\"middle\" x=\"509.5\" y=\"-22.8\" font-family=\"Times,serif\" font-size=\"14.00\" fill=\"#000000\">value = [1371, 232]</text>\n<text text-anchor=\"middle\" x=\"509.5\" y=\"-7.8\" font-family=\"Times,serif\" font-size=\"14.00\" fill=\"#000000\">class = não</text>\n</g>\n<!-- 4&#45;&gt;6 -->\n<g id=\"edge6\" class=\"edge\">\n<title>4&#45;&gt;6</title>\n<path fill=\"none\" stroke=\"#000000\" d=\"M412.8439,-103.9815C426.2994,-94.2394 440.6131,-83.8759 453.9867,-74.193\"/>\n<polygon fill=\"#000000\" stroke=\"#000000\" points=\"456.1289,-76.9632 462.1762,-68.2637 452.0237,-71.2933 456.1289,-76.9632\"/>\n</g>\n</g>\n</svg>\n"
          },
          "metadata": {
            "tags": []
          },
          "execution_count": 39
        }
      ]
    },
    {
      "cell_type": "code",
      "metadata": {
        "id": "8d0YTcOm-jaY"
      },
      "source": [
        "The "
      ],
      "execution_count": null,
      "outputs": []
    }
  ]
}