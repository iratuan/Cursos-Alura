{
  "nbformat": 4,
  "nbformat_minor": 0,
  "metadata": {
    "colab": {
      "name": "Alura - DS01 - Aula 01.ipynb",
      "provenance": []
    },
    "kernelspec": {
      "name": "python3",
      "display_name": "Python 3"
    }
  },
  "cells": [
    {
      "cell_type": "markdown",
      "metadata": {
        "id": "vFe-Cch4H2iI"
      },
      "source": [
        "Inicialmente iremos criar um conjuto de dados (dataset) que exibem as características (features) de dois tipos de animais: porcos e cachorros."
      ]
    },
    {
      "cell_type": "code",
      "metadata": {
        "id": "UkirLPZcEwY_"
      },
      "source": [
        "\n",
        "#Primeiro passo: criar os animais que pode ser de duas classes: porcos e cachorros\n",
        "#features: [pelo longo, perna curta, faz au au]\n",
        "porco1 = [0,1,0]\n",
        "porco2 = [0,1,1]\n",
        "porco3 = [1,1,0]\n",
        "cachorro1 = [0,1,1]\n",
        "cachorro2 = [1,0,1]\n",
        "cachorro3 = [1,1,1]"
      ],
      "execution_count": 1,
      "outputs": []
    },
    {
      "cell_type": "code",
      "metadata": {
        "id": "EdCW7-R_Hwyp"
      },
      "source": [
        "#criando um dataset a partir dos animais criados\n",
        "# f(x) = y\n",
        "train_x = [porco1, porco2, porco3, cachorro1, cachorro2, cachorro3]\n",
        "# classificando os dados: 1=> porco 0=> cachorro\n",
        "train_y = [1,1,1,0,0,0]"
      ],
      "execution_count": 2,
      "outputs": []
    },
    {
      "cell_type": "code",
      "metadata": {
        "colab": {
          "base_uri": "https://localhost:8080/"
        },
        "id": "62sEVoccIWmI",
        "outputId": "dd2c8894-c728-4bd1-a5ac-b32ff6999f10"
      },
      "source": [
        "# Importando as bibliotecas que utilizaremos\n",
        "from sklearn.svm import LinearSVC\n",
        "# Criando um modelo\n",
        "model = LinearSVC()\n",
        "# Treinando o modelo\n",
        "model.fit(train_x, train_y)"
      ],
      "execution_count": 3,
      "outputs": [
        {
          "output_type": "execute_result",
          "data": {
            "text/plain": [
              "LinearSVC(C=1.0, class_weight=None, dual=True, fit_intercept=True,\n",
              "          intercept_scaling=1, loss='squared_hinge', max_iter=1000,\n",
              "          multi_class='ovr', penalty='l2', random_state=None, tol=0.0001,\n",
              "          verbose=0)"
            ]
          },
          "metadata": {
            "tags": []
          },
          "execution_count": 3
        }
      ]
    },
    {
      "cell_type": "code",
      "metadata": {
        "colab": {
          "base_uri": "https://localhost:8080/"
        },
        "id": "5qeAoCXMJs7l",
        "outputId": "f120092d-1467-4f82-a303-6fd043b121fe"
      },
      "source": [
        "# Aprendendo que animal misterioso é esse\n",
        "animal_misterioso = [1,1,1]\n",
        "model.predict([animal_misterioso])"
      ],
      "execution_count": 4,
      "outputs": [
        {
          "output_type": "execute_result",
          "data": {
            "text/plain": [
              "array([0])"
            ]
          },
          "metadata": {
            "tags": []
          },
          "execution_count": 4
        }
      ]
    },
    {
      "cell_type": "code",
      "metadata": {
        "id": "K9MHzUCfKGnp"
      },
      "source": [
        "# Aprendendo predizendo vários animais misteriosos\n",
        "am1 , am2, am3, am4 = [1,1,0], [1,1,1], [0,0,1],[0,1,0]\n",
        "test_x = [am1,am2,am3,am4]\n",
        "# resultado esperado\n",
        "test_y = [1,1,0,1]"
      ],
      "execution_count": 5,
      "outputs": []
    },
    {
      "cell_type": "code",
      "metadata": {
        "colab": {
          "base_uri": "https://localhost:8080/"
        },
        "id": "xzNc3udvK1q3",
        "outputId": "b912da93-3d94-4ecf-907a-80cf21ea54af"
      },
      "source": [
        "# Verificando a taxa de acerto - accuracy\n",
        "previsoes = model.predict(test_x)\n",
        "previsoes_corretas = (previsoes == test_y).sum()\n",
        "total = len(test_x)\n",
        "taxa_acerto = previsoes_corretas/total\n",
        "taxa_acerto\n"
      ],
      "execution_count": 6,
      "outputs": [
        {
          "output_type": "execute_result",
          "data": {
            "text/plain": [
              "0.75"
            ]
          },
          "metadata": {
            "tags": []
          },
          "execution_count": 6
        }
      ]
    },
    {
      "cell_type": "code",
      "metadata": {
        "colab": {
          "base_uri": "https://localhost:8080/"
        },
        "id": "jyKtASGSLmgJ",
        "outputId": "79c1dd7d-227a-4b95-c956-ac6e115448e6"
      },
      "source": [
        "from sklearn.metrics import accuracy_score \n",
        "taxa_acerto = accuracy_score(test_y, previsoes)\n",
        "taxa_acerto"
      ],
      "execution_count": 9,
      "outputs": [
        {
          "output_type": "execute_result",
          "data": {
            "text/plain": [
              "0.75"
            ]
          },
          "metadata": {
            "tags": []
          },
          "execution_count": 9
        }
      ]
    },
    {
      "cell_type": "code",
      "metadata": {
        "id": "b4vDnldJNfTZ"
      },
      "source": [
        ""
      ],
      "execution_count": null,
      "outputs": []
    },
    {
      "cell_type": "code",
      "metadata": {
        "id": "8sZlpgETQfAN"
      },
      "source": [
        ""
      ],
      "execution_count": null,
      "outputs": []
    }
  ]
}