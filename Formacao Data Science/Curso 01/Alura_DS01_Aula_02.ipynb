{
  "nbformat": 4,
  "nbformat_minor": 0,
  "metadata": {
    "colab": {
      "name": "Alura - DS01 - Aula 02.ipynb",
      "provenance": []
    },
    "kernelspec": {
      "name": "python3",
      "display_name": "Python 3"
    }
  },
  "cells": [
    {
      "cell_type": "code",
      "metadata": {
        "id": "F8i_oE4MRO4c"
      },
      "source": [
        "# Lendo um arquivo da web\n",
        "# importando a biblioteca\n",
        "import pandas as pd\n",
        "\n",
        "uri='https://gist.githubusercontent.com/guilhermesilveira/2d2efa37d66b6c84a722ea627a897ced/raw/10968b997d885cbded1c92938c7a9912ba41c615/tracking.csv'\n",
        "dados = pd.read_csv(uri)\n",
        "\n",
        "# separando as features (x)\n",
        "labels = {\n",
        "    \"home\":\"principal\",\n",
        "    \"how_it_works\": \"como_funciona\",\n",
        "    \"contact\": \"contato\",\n",
        "    \"bought\":\"comprou\"\n",
        "}\n",
        "\n",
        "dados = dados.rename(columns=labels)\n",
        "x = dados[[\"principal\",\"como_funciona\",\"contato\"]]\n",
        "y = dados[\"comprou\"]\n"
      ],
      "execution_count": 7,
      "outputs": []
    },
    {
      "cell_type": "code",
      "metadata": {
        "colab": {
          "base_uri": "https://localhost:8080/"
        },
        "id": "c4c4gdw0SDul",
        "outputId": "61fdb5df-dedf-4d47-f070-f01e2413120a"
      },
      "source": [
        "# Visualizando o formato dos dados\n",
        "dados.shape"
      ],
      "execution_count": 9,
      "outputs": [
        {
          "output_type": "execute_result",
          "data": {
            "text/plain": [
              "(99, 4)"
            ]
          },
          "metadata": {
            "tags": []
          },
          "execution_count": 9
        }
      ]
    },
    {
      "cell_type": "code",
      "metadata": {
        "id": "gC15D-LjUJl8"
      },
      "source": [
        "# Separando os conjunto de treino\n",
        "train_x = x[:75]\n",
        "# Separando os valores \n",
        "train_y = y[:75]\n",
        "\n",
        "#separando os testes\n",
        "test_x = x[75:]\n",
        "test_y = y[75:]"
      ],
      "execution_count": 10,
      "outputs": []
    },
    {
      "cell_type": "code",
      "metadata": {
        "colab": {
          "base_uri": "https://localhost:8080/"
        },
        "id": "BeYxsFl0Uusr",
        "outputId": "1f765ee2-bed1-4025-b89b-f51d1f42eb99"
      },
      "source": [
        "# Treinando o modelo\n",
        "from sklearn.svm import LinearSVC\n",
        "from sklearn.metrics import accuracy_score\n",
        "model = LinearSVC()\n",
        "model.fit(train_x, train_y)\n",
        "\n",
        "previsoes = model.predict(test_x)\n",
        "accuracy_score(test_y, previsoes)\n"
      ],
      "execution_count": 13,
      "outputs": [
        {
          "output_type": "execute_result",
          "data": {
            "text/plain": [
              "0.9583333333333334"
            ]
          },
          "metadata": {
            "tags": []
          },
          "execution_count": 13
        }
      ]
    },
    {
      "cell_type": "code",
      "metadata": {
        "colab": {
          "base_uri": "https://localhost:8080/"
        },
        "id": "Ssk0jew9VWFz",
        "outputId": "923bd310-8b3c-4765-f58f-268d3ce729be"
      },
      "source": [
        "from sklearn.model_selection import train_test_split\n",
        "# SEED controla a aleatoriedade da separação dos dados\n",
        "# stratify diz que o algoritmo deve estratificar a amostra com base na classificação (Y)\n",
        "SEED = 20\n",
        "train_x, test_x, train_y, test_y = train_test_split(x,y, random_state = SEED ,test_size = 0.25, stratify = y)\n",
        "# Treinando o modelo\n",
        "from sklearn.svm import LinearSVC\n",
        "from sklearn.metrics import accuracy_score\n",
        "model = LinearSVC()\n",
        "model.fit(train_x, train_y)\n",
        "\n",
        "previsoes = model.predict(test_x)\n",
        "accuracy_score(test_y, previsoes)"
      ],
      "execution_count": 34,
      "outputs": [
        {
          "output_type": "execute_result",
          "data": {
            "text/plain": [
              "0.96"
            ]
          },
          "metadata": {
            "tags": []
          },
          "execution_count": 34
        }
      ]
    },
    {
      "cell_type": "code",
      "metadata": {
        "id": "C7F6U0fRZcy7"
      },
      "source": [
        ""
      ],
      "execution_count": null,
      "outputs": []
    }
  ]
}